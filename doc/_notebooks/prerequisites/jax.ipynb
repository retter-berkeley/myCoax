{
 "cells": [
  {
   "cell_type": "code",
   "execution_count": null,
   "metadata": {},
   "outputs": [],
   "source": [
    "!pip install --upgrade coax"
   ]
  },
  {
   "cell_type": "code",
   "execution_count": null,
   "metadata": {},
   "outputs": [],
   "source": [
    "pip install jaxlib jax --upgrade"
   ]
  },
  {
   "cell_type": "code",
   "execution_count": 1,
   "metadata": {},
   "outputs": [
    {
     "name": "stdout",
     "output_type": "stream",
     "text": [
      "3929.5195\n"
     ]
    },
    {
     "name": "stderr",
     "output_type": "stream",
     "text": [
      "C:\\Users\\robert\\AppData\\Local\\Temp\\ipykernel_17624\\2204676726.py:32: DeprecationWarning: jax.tree_map is deprecated: use jax.tree.map (jax v0.4.25 or newer) or jax.tree_util.tree_map (any JAX version).\n",
      "  return jax.tree_map(lambda p, g: p - 0.05 * g, params, grads)\n"
     ]
    },
    {
     "name": "stdout",
     "output_type": "stream",
     "text": [
      "3270.893\n",
      "2729.2104\n",
      "2282.706\n",
      "1913.8132\n",
      "1608.3345\n",
      "1354.7747\n",
      "1143.8125\n",
      "967.8746\n",
      "820.79816\n",
      "697.55756\n",
      "594.0473\n",
      "506.90674\n",
      "433.37927\n",
      "371.19897\n",
      "318.49924\n",
      "273.73923\n",
      "235.6438\n",
      "203.15565\n",
      "175.39609\n",
      "151.63278\n",
      "131.25436\n",
      "113.74911\n",
      "98.68779\n",
      "85.709335\n",
      "74.50959\n",
      "64.83157\n",
      "56.457832\n",
      "49.20384\n",
      "42.912804\n",
      "37.45106\n",
      "32.70467\n",
      "28.576141\n",
      "24.981916\n",
      "21.850405\n",
      "19.120012\n",
      "16.737732\n",
      "14.657859\n",
      "12.8409395\n",
      "11.252851\n",
      "9.864106\n",
      "8.649089\n",
      "7.585652\n",
      "6.654494\n",
      "5.8388834\n",
      "5.124228\n",
      "4.4978404\n",
      "3.9486606\n",
      "3.4670675\n",
      "3.0446293\n"
     ]
    }
   ],
   "source": [
    "import jax\n",
    "import jax.numpy as jnp\n",
    "from sklearn.datasets import make_regression\n",
    "from sklearn.model_selection import train_test_split\n",
    "\n",
    "\n",
    "# create our dataset\n",
    "X, y = make_regression(n_features=3)\n",
    "X, X_test, y, y_test = train_test_split(X, y)\n",
    "\n",
    "\n",
    "# model weights\n",
    "params = {\n",
    "    'w': jnp.zeros(X.shape[1:]),\n",
    "    'b': 0.\n",
    "}\n",
    "\n",
    "\n",
    "def forward(params, X):\n",
    "    return jnp.dot(X, params['w']) + params['b']\n",
    "\n",
    "\n",
    "def loss_fn(params, X, y):\n",
    "    err = forward(params, X) - y\n",
    "    return jnp.mean(jnp.square(err))  # mse\n",
    "\n",
    "\n",
    "grad_fn = jax.grad(loss_fn)\n",
    "\n",
    "\n",
    "def update(params, grads):\n",
    "    return jax.tree_map(lambda p, g: p - 0.05 * g, params, grads)\n",
    "\n",
    "\n",
    "# the main training loop\n",
    "for _ in range(50):\n",
    "    loss = loss_fn(params, X_test, y_test)\n",
    "    print(loss)\n",
    "\n",
    "    grads = grad_fn(params, X, y)\n",
    "    params = update(params, grads)\n"
   ]
  },
  {
   "cell_type": "code",
   "execution_count": null,
   "metadata": {},
   "outputs": [],
   "source": []
  }
 ],
 "metadata": {
  "kernelspec": {
   "display_name": "Python 3 (ipykernel)",
   "language": "python",
   "name": "python3"
  },
  "language_info": {
   "codemirror_mode": {
    "name": "ipython",
    "version": 3
   },
   "file_extension": ".py",
   "mimetype": "text/x-python",
   "name": "python",
   "nbconvert_exporter": "python",
   "pygments_lexer": "ipython3",
   "version": "3.11.7"
  }
 },
 "nbformat": 4,
 "nbformat_minor": 4
}
