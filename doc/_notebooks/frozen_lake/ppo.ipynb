{
 "cells": [
  {
   "cell_type": "code",
   "execution_count": 4,
   "metadata": {},
   "outputs": [
    {
     "name": "stdout",
     "output_type": "stream",
     "text": [
      "Note: you may need to restart the kernel to use updated packages.\n"
     ]
    },
    {
     "name": "stderr",
     "output_type": "stream",
     "text": [
      "  ERROR: Error [WinError 2] The system cannot find the file specified while executing command git version\n",
      "ERROR: Cannot find command 'git' - do you have 'git' installed and in your PATH?\n"
     ]
    }
   ],
   "source": [
    "%pip install git+https://github.com/coax-dev/coax.git@main --quiet"
   ]
  },
  {
   "cell_type": "code",
   "execution_count": 2,
   "metadata": {},
   "outputs": [
    {
     "ename": "ModuleNotFoundError",
     "evalue": "No module named 'coax'",
     "output_type": "error",
     "traceback": [
      "\u001b[1;31m---------------------------------------------------------------------------\u001b[0m",
      "\u001b[1;31mModuleNotFoundError\u001b[0m                       Traceback (most recent call last)",
      "Cell \u001b[1;32mIn[2], line 1\u001b[0m\n\u001b[1;32m----> 1\u001b[0m \u001b[38;5;28;01mimport\u001b[39;00m \u001b[38;5;21;01mcoax\u001b[39;00m\n\u001b[0;32m      2\u001b[0m \u001b[38;5;28;01mimport\u001b[39;00m \u001b[38;5;21;01mjax\u001b[39;00m\n\u001b[0;32m      3\u001b[0m \u001b[38;5;28;01mimport\u001b[39;00m \u001b[38;5;21;01mjax\u001b[39;00m\u001b[38;5;21;01m.\u001b[39;00m\u001b[38;5;21;01mnumpy\u001b[39;00m \u001b[38;5;28;01mas\u001b[39;00m \u001b[38;5;21;01mjnp\u001b[39;00m\n",
      "\u001b[1;31mModuleNotFoundError\u001b[0m: No module named 'coax'"
     ]
    }
   ],
   "source": [
    "import coax\n",
    "import jax\n",
    "import jax.numpy as jnp\n",
    "import gymnasium\n",
    "import haiku as hk\n",
    "import optax\n",
    "\n",
    "\n",
    "# the MDP\n",
    "env = gymnasium.make('FrozenLakeNonSlippery-v0')\n",
    "env = coax.wrappers.TrainMonitor(env)\n",
    "\n",
    "\n",
    "def func_v(S, is_training):\n",
    "    value = hk.Sequential((hk.Linear(1, w_init=jnp.zeros), jnp.ravel))\n",
    "    return value(S)\n",
    "\n",
    "\n",
    "def func_pi(S, is_training):\n",
    "    logits = hk.Linear(env.action_space.n, w_init=jnp.zeros)\n",
    "    return {'logits': logits(S)}\n",
    "\n",
    "\n",
    "# function approximators\n",
    "pi = coax.Policy(func_pi, env)\n",
    "v = coax.V(func_v, env)\n",
    "\n",
    "\n",
    "# create copies\n",
    "pi_old = pi.copy()  # behavior policy\n",
    "v_targ = v.copy()   # target network\n",
    "\n",
    "\n",
    "# experience tracer\n",
    "tracer = coax.reward_tracing.NStep(n=1, gamma=0.9)\n",
    "\n",
    "\n",
    "# updaters\n",
    "simple_td = coax.td_learning.SimpleTD(v, v_targ, optimizer=optax.adam(0.02))\n",
    "ppo_clip = coax.policy_objectives.PPOClip(pi, optimizer=optax.adam(0.01))\n",
    "\n",
    "\n",
    "# train\n",
    "for ep in range(500):\n",
    "    s, info = env.reset()\n",
    "\n",
    "    for t in range(env.spec.max_episode_steps):\n",
    "        a, logp = pi_old(s, return_logp=True)\n",
    "        s_next, r, done, truncated, info = env.step(a)\n",
    "\n",
    "        # small incentive to keep moving\n",
    "        if jnp.array_equal(s_next, s):\n",
    "            r = -0.01\n",
    "\n",
    "        # update\n",
    "        tracer.add(s, a, r, done, logp)\n",
    "        while tracer:\n",
    "            transition_batch = tracer.pop()\n",
    "            _, td_error = simple_td.update(transition_batch, return_td_error=True)\n",
    "            ppo_clip.update(transition_batch, td_error)\n",
    "\n",
    "            # sync target networks\n",
    "            v_targ.soft_update(v, tau=0.01)\n",
    "            pi_old.soft_update(pi, tau=0.01)\n",
    "\n",
    "        if done or truncated:\n",
    "            break\n",
    "\n",
    "        s = s_next\n",
    "\n",
    "    # early stopping\n",
    "    if env.avg_G > env.spec.reward_threshold:\n",
    "        break\n",
    "\n",
    "\n",
    "# run env one more time to render\n",
    "s, info = env.reset()\n",
    "env.render()\n",
    "\n",
    "for t in range(env.spec.max_episode_steps):\n",
    "\n",
    "    # estimated state value\n",
    "    print(\"  v(s) = {:.3f}\".format(v(s)))\n",
    "\n",
    "    # print individual action probabilities\n",
    "    params = pi.dist_params(s)\n",
    "    propensities = jax.nn.softmax(params['logits'])\n",
    "    for i, p in enumerate(propensities):\n",
    "        print(\"  π({:s}|s) = {:.3f}\".format('LDRU'[i], p))\n",
    "\n",
    "    a = pi.mode(s)\n",
    "    s, r, done, truncated, info = env.step(a)\n",
    "\n",
    "    env.render()\n",
    "\n",
    "    if done or truncated:\n",
    "        break\n",
    "\n",
    "\n",
    "if env.avg_G < env.spec.reward_threshold:\n",
    "    name = globals().get('__file__', 'this script')\n",
    "    raise RuntimeError(f\"{name} failed to reach env.spec.reward_threshold\")\n"
   ]
  },
  {
   "cell_type": "code",
   "execution_count": null,
   "metadata": {},
   "outputs": [],
   "source": []
  }
 ],
 "metadata": {
  "kernelspec": {
   "display_name": "Python 3 (ipykernel)",
   "language": "python",
   "name": "python3"
  },
  "language_info": {
   "codemirror_mode": {
    "name": "ipython",
    "version": 3
   },
   "file_extension": ".py",
   "mimetype": "text/x-python",
   "name": "python",
   "nbconvert_exporter": "python",
   "pygments_lexer": "ipython3",
   "version": "3.12.4"
  }
 },
 "nbformat": 4,
 "nbformat_minor": 4
}
